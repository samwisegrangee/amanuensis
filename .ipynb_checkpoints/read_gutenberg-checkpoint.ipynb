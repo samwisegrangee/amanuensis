{
 "cells": [
  {
   "cell_type": "markdown",
   "metadata": {},
   "source": [
    "## Read texts from _Project Gutenberg_"
   ]
  },
  {
   "cell_type": "markdown",
   "metadata": {},
   "source": [
    "Tinkering to learn text analysis _via_ Python scripting by writing a few lightweight functions.  Using [Project Gutenberg](https://www.gutenberg.org/wiki/Main_Page) because... what better to read?  NB: These scripts are purely for fun and not meant to replace more serious packages like [c-w/Gutenberg](https://github.com/c-w/Gutenberg)."
   ]
  },
  {
   "cell_type": "markdown",
   "metadata": {
    "slideshow": {
     "slide_type": "-"
    }
   },
   "source": [
    "### Reading in data\n",
    "\n",
    "Define function which:\n",
    "\n",
    "* accepts a _Project Gutenberg_ ID\n",
    "* downloads text file from _Project Gutenberg_"
   ]
  },
  {
   "cell_type": "code",
   "execution_count": 8,
   "metadata": {
    "collapsed": true
   },
   "outputs": [],
   "source": [
    "def readabook(ID):\n",
    "    url = \"http://www.gutenberg.org/cache/epub/\" + str(ID) + \"/pg\" + str(ID) + \".txt\"\n",
    "    import urllib2 \n",
    "    geturl = urllib2.urlopen(url) \n",
    "    text = geturl.read()\n",
    "    return text"
   ]
  },
  {
   "cell_type": "markdown",
   "metadata": {},
   "source": [
    "We can search for texts [here](https://www.gutenberg.org/ebooks/) and enter the ```ID``` into our homemade function.\n",
    "\n",
    "For example:"
   ]
  },
  {
   "cell_type": "code",
   "execution_count": 18,
   "metadata": {
    "collapsed": false
   },
   "outputs": [],
   "source": [
    "# leavesofgrass = readabook(1322)\n",
    "# mobydick = readabook(2701)\n",
    "# ulysses = readabook(4300)\n",
    "# metamorphosis = readabook(5200)\n",
    "# jekyll = readabook(43)\n",
    "# print(mobydick)"
   ]
  },
  {
   "cell_type": "markdown",
   "metadata": {},
   "source": [
    "### Metadata\n",
    "Define function which:\n",
    "\n",
    "* extracts and stores metadata\n",
    "* performs word count"
   ]
  },
  {
   "cell_type": "code",
   "execution_count": null,
   "metadata": {
    "collapsed": true
   },
   "outputs": [],
   "source": []
  },
  {
   "cell_type": "markdown",
   "metadata": {},
   "source": [
    "###  Cleaning\n",
    "Define function which:\n",
    "\n",
    "* accepts a character string containing a _Project Gutenberg_ text\n",
    "* shaves off header & footer"
   ]
  },
  {
   "cell_type": "code",
   "execution_count": null,
   "metadata": {
    "collapsed": true
   },
   "outputs": [],
   "source": [
    "text = text.lower()\n",
    "strip = text.replace('\\n', ' ').replace('\\r', ' ').replace(',', ' ').replace('.', ' ').replace('-', ' ')\n",
    "words = strip.split(' ')[0:] \n",
    "wordcount = wordcount(words)"
   ]
  },
  {
   "cell_type": "markdown",
   "metadata": {
    "collapsed": false
   },
   "source": [
    "### Tag dialogue\n",
    "\n",
    "Define a function which:\n",
    "1. Tags passages of text as dialogue\n",
    "  * By identifying text occurring between quotation marks\n",
    "  * By identifying passages written in the first or second person (i.e. containing \"I\" or \"you\" but occurring outside of quoted text)\n",
    "2. Stores those passages as tokens \n",
    "3. Identifies a likely speaker of each passage, if one can be found\n",
    "  * By looking at nearby names\n",
    "  * By counting the number of interstices between the current dialogue and the last identified dialoge in a *back-and-forth* conversation between two characters (*assuming 2 characters*)\n",
    "  * Flag unknown speakers \n",
    "4. Identifies adverbial clauses, prepositional phrases, etc. related to a given dialogue snippet\n",
    "5. Flags ambiguous dialogue (in order to color red in display)\n",
    "6. Stores passage text, speaker, and (optional) clauses in a dataframe\n",
    "  * create sequence identifier"
   ]
  },
  {
   "cell_type": "markdown",
   "metadata": {},
   "source": [
    "### Tag descriptive passages\n",
    "\n",
    "Define a function which (or merge with previous function?):\n",
    "\n",
    "1. Tags passages as descriptive\n",
    "2. Stores passages in dataframe "
   ]
  },
  {
   "cell_type": "code",
   "execution_count": null,
   "metadata": {
    "collapsed": true
   },
   "outputs": [],
   "source": []
  },
  {
   "cell_type": "markdown",
   "metadata": {
    "collapsed": true
   },
   "source": [
    "### Convert resulting data sctructure to JSON"
   ]
  },
  {
   "cell_type": "code",
   "execution_count": null,
   "metadata": {
    "collapsed": true
   },
   "outputs": [],
   "source": []
  },
  {
   "cell_type": "markdown",
   "metadata": {
    "collapsed": true
   },
   "source": [
    "### NLTK, anyone?\n",
    "\n",
    "Now that we have a \"pure\" text, we can start to structure it as data."
   ]
  },
  {
   "cell_type": "code",
   "execution_count": null,
   "metadata": {
    "collapsed": true
   },
   "outputs": [],
   "source": []
  }
 ],
 "metadata": {
  "kernelspec": {
   "display_name": "Python 2",
   "language": "python",
   "name": "python2"
  },
  "language_info": {
   "codemirror_mode": {
    "name": "ipython",
    "version": 2
   },
   "file_extension": ".py",
   "mimetype": "text/x-python",
   "name": "python",
   "nbconvert_exporter": "python",
   "pygments_lexer": "ipython2",
   "version": "2.7.11"
  }
 },
 "nbformat": 4,
 "nbformat_minor": 0
}
